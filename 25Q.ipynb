{
 "cells": [
  {
   "cell_type": "markdown",
   "id": "c4f732e1-f229-41cc-85a2-3153350df673",
   "metadata": {},
   "source": [
    "Question 1"
   ]
  },
  {
   "cell_type": "code",
   "execution_count": 37,
   "id": "e0b38d3f-625c-496d-93d3-8f1bcf53659f",
   "metadata": {},
   "outputs": [
    {
     "name": "stdout",
     "output_type": "stream",
     "text": [
      "110\n",
      "654729075\n",
      "10.5\n",
      "10.5\n",
      "5.766281297335398\n"
     ]
    }
   ],
   "source": [
    "list_first20N = [1, 2 ,3, 4, 5, 6, 7, 8, 9, 10, 11, 12, 13, 14, 15, 16, 17, 18, 19, 20]\n",
    "print(sum(list_first20N[1::2])) #sum of all even numbers in the list\n",
    "odd_list = list_first20N[::2]\n",
    "i = 1\n",
    "for x in odd_list:\n",
    "    i *= x\n",
    "print(i)\n",
    "# mean of the list\n",
    "mean = sum(list_first20N)/len(list_first20N)\n",
    "print(mean)\n",
    "#median\n",
    "s = len(list_first20N)//2\n",
    "med = (list_first20N[s] + list_first20N[s - 1])/2\n",
    "print(med)\n",
    "#standard deviation\n",
    "s = 0\n",
    "for b in list_first20N:\n",
    "    s += (b - mean)**2\n",
    "sd = (s/len(list_first20N))**0.5\n",
    "print(sd)"
   ]
  },
  {
   "cell_type": "markdown",
   "id": "ee63aaf8-e7fe-4ea5-863c-b0445271a427",
   "metadata": {},
   "source": [
    "Question 2"
   ]
  },
  {
   "cell_type": "markdown",
   "id": "6bc8362f-c15f-472a-89d2-a6e5567cbd2e",
   "metadata": {},
   "source": [
    "Mutable datatypes are those where the data stored within it can be manipulated that is it can be removed, added, replaced etc. Meanwhile it is the opposite for immutable datatype. For example list is a mutable datatype in python and strings are immutable"
   ]
  },
  {
   "cell_type": "markdown",
   "id": "ea170f5c-72e7-4865-a17e-32fef94c7102",
   "metadata": {},
   "source": [
    "Question 3"
   ]
  },
  {
   "cell_type": "code",
   "execution_count": 38,
   "id": "0e0d1a82-1b8b-4f19-b017-49885f810012",
   "metadata": {},
   "outputs": [
    {
     "name": "stdin",
     "output_type": "stream",
     "text": [
      " 10\n"
     ]
    },
    {
     "data": {
      "text/plain": [
       "[<matplotlib.lines.Line2D at 0x1a4b8914c80>]"
      ]
     },
     "execution_count": 38,
     "metadata": {},
     "output_type": "execute_result"
    },
    {
     "data": {
      "image/png": "[encoded data removed]",
      "text/plain": [
       "<Figure size 640x480 with 1 Axes>"
      ]
     },
     "metadata": {},
     "output_type": "display_data"
    }
   ],
   "source": [
    "import matplotlib.pyplot as plt\n",
    "def fibuptoN(n):\n",
    "    if n == 1:\n",
    "        return [1]\n",
    "    elif n == 2:\n",
    "        return [1, 1]\n",
    "    f1 = 1\n",
    "    f2 = 1\n",
    "    lst = [1, 1]\n",
    "    for i in range(n - 2):\n",
    "        temp = f2\n",
    "        f2 += f1\n",
    "        f1 = temp\n",
    "        lst.append(f2)\n",
    "    return lst\n",
    "n = int(input())\n",
    "xpt = [i for i in range(1, n + 1)]\n",
    "ypt = fibuptoN(n)\n",
    "plt.plot(xpt, ypt)"
   ]
  },
  {
   "cell_type": "markdown",
   "id": "9ab8d33d-3dbe-47d3-a2f0-b2337ec2d3c2",
   "metadata": {},
   "source": [
    "Question 4"
   ]
  },
  {
   "cell_type": "code",
   "execution_count": 10,
   "id": "7c28ef01-55a1-4970-b02e-a6d68a085fc4",
   "metadata": {},
   "outputs": [
    {
     "name": "stdout",
     "output_type": "stream",
     "text": [
      "[3, 5, 7, 9, 11, 13]\n",
      "[3, 5, 7, 6, 9, 11, 13]\n",
      "[3, 5, 6, 9, 11, 13]\n",
      "[13, 11, 9, 6, 5, 3]\n",
      "7.833333333333333\n",
      "7.5\n"
     ]
    }
   ],
   "source": [
    "lst = [3, 5, 7, 9, 11, 13]\n",
    "print(lst)\n",
    "lst.insert(3, 6)\n",
    "print(lst)\n",
    "lst.remove(7)\n",
    "print(lst)\n",
    "lst = lst[::-1]\n",
    "print(lst)\n",
    "n = len(lst)\n",
    "print(sum(lst)/n) #mean\n",
    "#median\n",
    "print((lst[n//2] +lst[n//2 - 1])/2)"
   ]
  },
  {
   "cell_type": "markdown",
   "id": "7597080a-4a41-47d2-8394-4ab22c184054",
   "metadata": {},
   "source": [
    "Question 5"
   ]
  },
  {
   "cell_type": "code",
   "execution_count": 14,
   "id": "ae56d400-a46a-4ad9-a2d3-8716eadf61e8",
   "metadata": {},
   "outputs": [
    {
     "name": "stdin",
     "output_type": "stream",
     "text": [
      " 1, 2, 4\n"
     ]
    },
    {
     "name": "stdout",
     "output_type": "stream",
     "text": [
      "2.3333333333333335\n",
      "4\n",
      "1\n"
     ]
    }
   ],
   "source": [
    "numbers = list(map(int, input().split(\",\")))\n",
    "n = len(numbers)\n",
    "print(sum(numbers)/n) #mean\n",
    "print(max(numbers))\n",
    "print(min(numbers))"
   ]
  },
  {
   "cell_type": "markdown",
   "id": "afa71127-f6a0-4363-ab74-3c313bad6977",
   "metadata": {},
   "source": [
    "Question 6"
   ]
  },
  {
   "cell_type": "code",
   "execution_count": 16,
   "id": "49c2b874-9940-4f36-9c48-29c411243909",
   "metadata": {},
   "outputs": [
    {
     "name": "stdout",
     "output_type": "stream",
     "text": [
      "True\n"
     ]
    }
   ],
   "source": [
    "string = \"A man a plan a canal Panama\"\n",
    "lst = [a.lower() for a in string if a.isalpha()]\n",
    "is_pal = True\n",
    "for i in range(len(lst)//2):\n",
    "    if lst[i] != lst[len(lst)-1-i]:\n",
    "        is_pal = False\n",
    "        break\n",
    "print(is_pal)"
   ]
  },
  {
   "cell_type": "markdown",
   "id": "78c5f2f2-ddad-4e20-b18c-14248294578b",
   "metadata": {},
   "source": [
    "Question 7"
   ]
  },
  {
   "cell_type": "code",
   "execution_count": 25,
   "id": "a70448e9-5148-4a22-831a-d37024075ddd",
   "metadata": {},
   "outputs": [
    {
     "name": "stdout",
     "output_type": "stream",
     "text": [
      "9.0\n",
      "a b "
     ]
    },
    {
     "data": {
      "text/plain": [
       "[<matplotlib.lines.Line2D at 0x1a4b7811d90>]"
      ]
     },
     "execution_count": 25,
     "metadata": {},
     "output_type": "execute_result"
    },
    {
     "data": {
      "image/png": "[encoded data removed]",
      "text/plain": [
       "<Figure size 640x480 with 1 Axes>"
      ]
     },
     "metadata": {},
     "output_type": "display_data"
    }
   ],
   "source": [
    "d = {\"a\" : 10, \"b\" : 12, \"c\" : 5}\n",
    "#average marks\n",
    "avg = sum(d.values())/(len(d))\n",
    "print(avg)\n",
    "#above average\n",
    "for i in d:\n",
    "    if d[i] > avg:\n",
    "        print(i, end= \" \")\n",
    "x = d.keys()\n",
    "y = d.values()\n",
    "plt.plot(x, y)"
   ]
  },
  {
   "cell_type": "markdown",
   "id": "cdef3fc7-e4b7-49ef-9a19-8df4fc022266",
   "metadata": {},
   "source": [
    "Question 8"
   ]
  },
  {
   "cell_type": "code",
   "execution_count": 31,
   "id": "e68ee5a3-342e-4b46-b691-d4daf5f04749",
   "metadata": {},
   "outputs": [
    {
     "name": "stdout",
     "output_type": "stream",
     "text": [
      "[(1, 1), (2, 4), (3, 9), (4, 16), (5, 25), (6, 36), (7, 49), (8, 64), (9, 81), (10, 100)]\n"
     ]
    },
    {
     "data": {
      "text/plain": [
       "<matplotlib.collections.PathCollection at 0x1a4b71da990>"
      ]
     },
     "execution_count": 31,
     "metadata": {},
     "output_type": "execute_result"
    },
    {
     "data": {
      "image/png": "[encoded data removed]",
      "text/plain": [
       "<Figure size 640x480 with 1 Axes>"
      ]
     },
     "metadata": {},
     "output_type": "display_data"
    }
   ],
   "source": [
    "lst = [(i, i**2) for i in range(1, 11)]\n",
    "print(lst)\n",
    "x = [i[0] for i in lst]\n",
    "y = [i[1] for i in lst]\n",
    "plt.scatter(x, y)"
   ]
  },
  {
   "cell_type": "markdown",
   "id": "a08804fd-5ea1-422d-9ac3-dd3e6c6a0406",
   "metadata": {},
   "source": [
    "Question 9"
   ]
  },
  {
   "cell_type": "code",
   "execution_count": 32,
   "id": "4e90c630-5643-41a9-94b2-e044c3793b9b",
   "metadata": {},
   "outputs": [
    {
     "name": "stdout",
     "output_type": "stream",
     "text": [
      "{'a': 10, 'b': 25, 'c': 15}\n"
     ]
    }
   ],
   "source": [
    "dict1 = {'a': 10, 'b': 20}\n",
    "dict2 = {'b': 5, 'c': 15}\n",
    "cdict = dict1.copy()\n",
    "for key in dict2:\n",
    "    if key in cdict:\n",
    "        cdict[key] += dict2[key]\n",
    "    else:\n",
    "        cdict[key] = dict2[key]\n",
    "print(cdict)"
   ]
  },
  {
   "cell_type": "markdown",
   "id": "88f9b04d-3a78-46e8-bfb9-5ef832049ee0",
   "metadata": {},
   "source": [
    "Quesstion 10"
   ]
  },
  {
   "cell_type": "code",
   "execution_count": 35,
   "id": "b187099a-58cb-4401-9d80-20c3d5e16c4e",
   "metadata": {},
   "outputs": [
    {
     "name": "stdin",
     "output_type": "stream",
     "text": [
      " JHIhyjugtu\n"
     ]
    },
    {
     "name": "stdout",
     "output_type": "stream",
     "text": [
      "jhihyjugtu\n",
      "{'j': 2, 'h': 2, 'i': 1, 'y': 1, 'u': 2, 'g': 1, 't': 1}\n"
     ]
    },
    {
     "data": {
      "text/plain": [
       "<BarContainer object of 7 artists>"
      ]
     },
     "execution_count": 35,
     "metadata": {},
     "output_type": "execute_result"
    },
    {
     "data": {
      "image/png": "[encoded data removed]",
      "text/plain": [
       "<Figure size 640x480 with 1 Axes>"
      ]
     },
     "metadata": {},
     "output_type": "display_data"
    }
   ],
   "source": [
    "string = input()\n",
    "string = string.lower()\n",
    "print(string)\n",
    "#frequency\n",
    "d = dict()\n",
    "for i in string:\n",
    "    if i in d:\n",
    "        d[i] += 1\n",
    "    else:\n",
    "        d[i] = 1\n",
    "print(d)\n",
    "x = d.keys()\n",
    "y = d.values()\n",
    "plt.bar(x, y)"
   ]
  },
  {
   "cell_type": "markdown",
   "id": "5184b67c-3d2f-48be-8ab2-44b6b8012984",
   "metadata": {},
   "source": [
    "Question 11"
   ]
  },
  {
   "cell_type": "code",
   "execution_count": 46,
   "id": "959994c4-ca01-456a-a852-1db38c99c45b",
   "metadata": {},
   "outputs": [
    {
     "name": "stdout",
     "output_type": "stream",
     "text": [
      "[1, 3, 2, 5, 4, 6, 9]\n",
      "[1, 5, 4, 6, 9]\n",
      "mean : 5.0\n",
      "median : 4\n"
     ]
    }
   ],
   "source": [
    "lst = [1, 3, 2, 5, 2, 4, 2, 6, 9, 3]\n",
    "d = {}\n",
    "for i in lst:\n",
    "    if i in d:\n",
    "        d[i] += 1\n",
    "    else:\n",
    "        d[i] = 1\n",
    "print(list(d.keys()))\n",
    "#unique elements\n",
    "l1 = [i for i in d if d[i] == 1]\n",
    "print(l1)\n",
    "n = len(l1)\n",
    "mean = sum(l1)/n\n",
    "print(\"mean :\", mean) \n",
    "median = l1[n//2]\n",
    "print(\"median :\", median)"
   ]
  },
  {
   "cell_type": "markdown",
   "id": "59dbc583-7f05-4574-99d4-ea3513438459",
   "metadata": {},
   "source": [
    "Question 12"
   ]
  },
  {
   "cell_type": "code",
   "execution_count": 56,
   "id": "457262a3-26b4-4e6b-a840-5dc8dcf14f68",
   "metadata": {},
   "outputs": [
    {
     "name": "stdout",
     "output_type": "stream",
     "text": [
      "Largest string: elephant\n",
      "Vowel Count: 2\n"
     ]
    },
    {
     "data": {
      "image/png": "[encoded data removed]",
      "text/plain": [
       "<Figure size 640x480 with 1 Axes>"
      ]
     },
     "metadata": {},
     "output_type": "display_data"
    }
   ],
   "source": [
    "lst = [\"apple\", \"bear\", \"car\", \"dog\", \"elephant\", \"floor\"]\n",
    "l = [len(i) for i in lst]\n",
    "m = max(l)\n",
    "max_index = 0\n",
    "for i in range(len(l)):\n",
    "    if l[i] == m:\n",
    "        max_index = i\n",
    "print(\"Largest string:\", lst[max_index])\n",
    "#vovel count\n",
    "count = 0\n",
    "vow = [\"a\", \"e\", \"i\", \"o\", \"u\"]\n",
    "for st in lst:\n",
    "    if st[0] in vow:\n",
    "        count += 1\n",
    "print(\"Vowel Count:\", count)\n",
    "plt.hist(l)\n",
    "plt.show()"
   ]
  },
  {
   "cell_type": "markdown",
   "id": "0cb25476-4055-4d44-bf3c-5f336ad7a9f6",
   "metadata": {},
   "source": [
    "Question 13"
   ]
  },
  {
   "cell_type": "code",
   "execution_count": 59,
   "id": "7f9629b3-16e2-4602-acf2-66394b7120d7",
   "metadata": {},
   "outputs": [
    {
     "name": "stdout",
     "output_type": "stream",
     "text": [
      "[{'name': 'Bob', 'age': 22}, {'name': 'Alice', 'age': 25}]\n"
     ]
    }
   ],
   "source": [
    "data = [{'name': 'Alice', 'age': 25}, {'name': 'Bob', 'age': 22}]\n",
    "d = sorted(data, key = lambda a: a[\"age\"])\n",
    "print(d)"
   ]
  },
  {
   "cell_type": "markdown",
   "id": "7a7aede1-b4c5-4857-90d1-223c3bb450ca",
   "metadata": {},
   "source": [
    "Question 14"
   ]
  },
  {
   "cell_type": "code",
   "execution_count": 87,
   "id": "d68cdfb4-f98e-49ee-9dd1-afeb9c3732be",
   "metadata": {},
   "outputs": [
    {
     "name": "stdout",
     "output_type": "stream",
     "text": [
      "['Split', 'string', 'into', 'list', 'words']\n",
      "['Split', 'into', 'list', 'string', 'words']\n"
     ]
    },
    {
     "data": {
      "image/png": "[encoded data removed]",
      "text/plain": [
       "<Figure size 640x480 with 1 Axes>"
      ]
     },
     "metadata": {},
     "output_type": "display_data"
    }
   ],
   "source": [
    "string = \"Split a string into a list of words\"\n",
    "string = string.split()\n",
    "num = [len(i) for i in string]\n",
    "new = [i for i in string if len(i) >= 4]\n",
    "print(new)\n",
    "s = sorted(new)\n",
    "print(s)\n",
    "from collections import Counter\n",
    "l = dict(Counter(num))\n",
    "l = list(l.items())\n",
    "x = [i[0] for i in l]\n",
    "y = [i[1] for i in l]\n",
    "plt.bar(x, y)\n",
    "plt.show()"
   ]
  },
  {
   "cell_type": "markdown",
   "id": "2ea7bdaa-74fc-4e54-b40f-939064d99cab",
   "metadata": {},
   "source": [
    "Question 15"
   ]
  },
  {
   "cell_type": "code",
   "execution_count": 102,
   "id": "68517f34-fd03-47d0-835e-0a8609bb4265",
   "metadata": {},
   "outputs": [
    {
     "name": "stdout",
     "output_type": "stream",
     "text": [
      "['enlist', 'inlets']\n"
     ]
    }
   ],
   "source": [
    "word = \"listen\"\n",
    "words = [\"enlist\", \"google\", \"inlets\", \"banana\"]\n",
    "new_word = \"\".join(sorted(word))\n",
    "new_words = [\"\".join(sorted(word)) for word in words]\n",
    "lst = []\n",
    "for i in range(len(new_words)):\n",
    "    if new_words[i] == new_word:\n",
    "        lst.append(words[i])\n",
    "print(lst)"
   ]
  },
  {
   "cell_type": "markdown",
   "id": "6be7f406-9825-40f0-8742-3d291c1b0ce2",
   "metadata": {},
   "source": [
    "Question 16"
   ]
  },
  {
   "cell_type": "code",
   "execution_count": 118,
   "id": "9c5f1aa4-05a1-4e89-896d-740638ec1d38",
   "metadata": {},
   "outputs": [
    {
     "name": "stdout",
     "output_type": "stream",
     "text": [
      "{2, 3, 5}\n",
      "{1, 2, 3, 4, 5, 7, 11}\n",
      "{1, 4, 7, 11}\n"
     ]
    },
    {
     "data": {
      "image/png": "[encoded data removed]",
      "text/plain": [
       "<Figure size 640x480 with 1 Axes>"
      ]
     },
     "metadata": {},
     "output_type": "display_data"
    }
   ],
   "source": [
    "l1 = [1, 3, 4, 5, 2]\n",
    "l2 = [2, 3, 7, 11, 5]\n",
    "l1 = set(l1)\n",
    "l2 = set(l2)\n",
    "intersection = l1.intersection(l2)\n",
    "print(intersection)\n",
    "union = l1.union(l2)\n",
    "print(union)\n",
    "symd = l1.symmetric_difference(l2)\n",
    "print(symd)\n",
    "from matplotlib_venn import venn2\n",
    "venn2([l1, l2], set_labels=('Set 1', 'Set 2'))\n",
    "plt.show()"
   ]
  },
  {
   "cell_type": "markdown",
   "id": "31ce7cdc-3b57-4c48-aae8-d6b34a7a8a6b",
   "metadata": {},
   "source": [
    "Question 17"
   ]
  },
  {
   "cell_type": "code",
   "execution_count": 127,
   "id": "502074e0-fd19-4034-ad16-bd32c7027e86",
   "metadata": {},
   "outputs": [
    {
     "name": "stdout",
     "output_type": "stream",
     "text": [
      "15\n"
     ]
    }
   ],
   "source": [
    "import csv\n",
    "lst = [1, 2, 3, 4, 5]\n",
    "with open(\"numbers.txt\", \"w+\") as file:\n",
    "    for i in lst:\n",
    "        file.write(f\"{i}\\n\")\n",
    "    file.seek(0)\n",
    "    lines = file.readlines()\n",
    "    s = 0\n",
    "    for line in lines:\n",
    "        s += int(line)\n",
    "    print(s)"
   ]
  },
  {
   "cell_type": "markdown",
   "id": "c5107f50-3ffe-4dcc-a6e9-ca428c1e8128",
   "metadata": {},
   "source": [
    "Question 18"
   ]
  },
  {
   "cell_type": "code",
   "execution_count": 132,
   "id": "54f0f2b9-5071-4ac6-9253-ce44c87ac37a",
   "metadata": {},
   "outputs": [
    {
     "data": {
      "image/png": "[encoded data removed]",
      "text/plain": [
       "<Figure size 640x480 with 1 Axes>"
      ]
     },
     "metadata": {},
     "output_type": "display_data"
    }
   ],
   "source": [
    "with open(\"words.txt\", \"r+\") as file:\n",
    "    lst = []\n",
    "    lines = file.readlines()\n",
    "    for line in lines:\n",
    "        lst.append(line.rstrip(\"\\n\"))\n",
    "    d = dict(Counter(lst))\n",
    "    x = d.keys()\n",
    "    y = d.values()\n",
    "    plt.bar(x, y)\n",
    "    plt.show()"
   ]
  },
  {
   "cell_type": "markdown",
   "id": "5adaedf5-90ba-46fd-89d9-4897dd96ec77",
   "metadata": {},
   "source": [
    "Question 19"
   ]
  },
  {
   "cell_type": "code",
   "execution_count": 152,
   "id": "86367b98-2bb7-4d5e-be0e-e40ee85784db",
   "metadata": {},
   "outputs": [
    {
     "name": "stdout",
     "output_type": "stream",
     "text": [
      "Mean: 27.48\n"
     ]
    },
    {
     "data": {
      "image/png": "[encoded data removed]",
      "text/plain": [
       "<Figure size 640x480 with 1 Axes>"
      ]
     },
     "metadata": {},
     "output_type": "display_data"
    }
   ],
   "source": [
    "import random\n",
    "ints = []\n",
    "for i in range(100):\n",
    "    ints.append(random.randint(1, 51))\n",
    "with open(\"randints.txt\", \"w+\") as file:\n",
    "    for i in ints:\n",
    "        file.write(f\"{i}\\n\")\n",
    "    file.seek(0)\n",
    "    lines = file.readlines()\n",
    "    s = 0\n",
    "    c = 0\n",
    "    for line in lines:\n",
    "        s += int(line)\n",
    "        c += 1\n",
    "    mean = s/c\n",
    "    print(f\"Mean: {mean}\")\n",
    "l = dict(Counter(ints))\n",
    "x = l.keys()\n",
    "y = l.values()\n",
    "plt.hist(l)\n",
    "plt.show()"
   ]
  },
  {
   "cell_type": "markdown",
   "id": "e8d01736-526d-4947-bb79-5ab2e0cf44dc",
   "metadata": {},
   "source": [
    "Question 20"
   ]
  },
  {
   "cell_type": "code",
   "execution_count": 33,
   "id": "386a4e40-4a85-4275-b3ca-a52f1b78d8d7",
   "metadata": {},
   "outputs": [
    {
     "name": "stdout",
     "output_type": "stream",
     "text": [
      "5\n"
     ]
    }
   ],
   "source": [
    "import csv\n",
    "file = open(\"numberslist.csv\", \"w\")\n",
    "w = csv.writer(file)\n",
    "w.writerow([1, 2, 3])\n",
    "w.writerow([4, 5, 6])\n",
    "file.close()\n",
    "file = open(\"numberslist.csv\", \"r\")\n",
    "file.seek(0)\n",
    "r = csv.reader(file)\n",
    "c = 1\n",
    "s = 0\n",
    "for row in r:\n",
    "    if c%2:\n",
    "        s += int(row[0])\n",
    "    c += 1\n",
    "print(s)"
   ]
  },
  {
   "cell_type": "markdown",
   "id": "9bb4979e-7612-4516-ae55-8ef1d94cb9db",
   "metadata": {},
   "source": [
    "Question 21"
   ]
  },
  {
   "cell_type": "code",
   "execution_count": 40,
   "id": "57499fb6-76fc-4a8c-9aad-eab3fd88c053",
   "metadata": {},
   "outputs": [
    {
     "name": "stdout",
     "output_type": "stream",
     "text": [
      "43.92857142857143\n",
      "55.0\n",
      "ModeResult(mode=np.int64(65), count=np.int64(3))\n"
     ]
    },
    {
     "data": {
      "image/png": "[encoded data removed]",
      "text/plain": [
       "<Figure size 640x480 with 1 Axes>"
      ]
     },
     "metadata": {},
     "output_type": "display_data"
    }
   ],
   "source": [
    "import numpy as np\n",
    "from scipy import stats as st\n",
    "import matplotlib.pyplot as plt\n",
    "lst = [1, 4, 10, 7, 1, 65, 68, 15, 67, 65, 45, 100, 102, 65]\n",
    "lst = np.array(lst)\n",
    "mean = np.mean(lst)\n",
    "print(mean)\n",
    "median = np.median(lst)\n",
    "print(median)\n",
    "mode = st.mode(lst)\n",
    "print(mode)\n",
    "plt.boxplot(lst)\n",
    "plt.show()"
   ]
  },
  {
   "cell_type": "markdown",
   "id": "ba06f674-d1a1-4480-8812-aaff4e2a31c6",
   "metadata": {},
   "source": [
    "Question 22"
   ]
  },
  {
   "cell_type": "code",
   "execution_count": 46,
   "id": "22523cb6-4c37-40ce-a5f8-d931cede06e4",
   "metadata": {},
   "outputs": [
    {
     "data": {
      "image/png": "[encoded data removed]",
      "text/plain": [
       "<Figure size 640x480 with 1 Axes>"
      ]
     },
     "metadata": {},
     "output_type": "display_data"
    }
   ],
   "source": [
    "import numpy as np\n",
    "import matplotlib.pyplot as plt\n",
    "arr = np.random.randint(1, 100, 50)\n",
    "lst = []\n",
    "for num in arr:\n",
    "    norm = (num - np.min(arr))/(np.max(arr) - np.min(arr))\n",
    "    lst.append(norm)\n",
    "plt.boxplot(lst)\n",
    "plt.show()"
   ]
  },
  {
   "cell_type": "markdown",
   "id": "85425bd4-7f82-4b5c-8b15-5e9d2e860d4a",
   "metadata": {},
   "source": [
    "Question 23"
   ]
  },
  {
   "cell_type": "code",
   "execution_count": 51,
   "id": "ed0f557a-628c-478f-ac94-89ecf79dbd71",
   "metadata": {},
   "outputs": [
    {
     "name": "stdin",
     "output_type": "stream",
     "text": [
      " 4\n"
     ]
    },
    {
     "name": "stdout",
     "output_type": "stream",
     "text": [
      "The number is even\n"
     ]
    }
   ],
   "source": [
    "n = int(input())\n",
    "if n%2:\n",
    "    print(\"The number is odd\")\n",
    "else:\n",
    "    print(\"The number is even\")"
   ]
  },
  {
   "cell_type": "markdown",
   "id": "857c7e38-1881-48a6-8642-624edaf1d153",
   "metadata": {},
   "source": [
    "Question 24"
   ]
  },
  {
   "cell_type": "code",
   "execution_count": 58,
   "id": "19c19a2a-d52b-44ed-82d1-ae2fac6a3531",
   "metadata": {},
   "outputs": [
    {
     "name": "stdin",
     "output_type": "stream",
     "text": [
      " 65\n"
     ]
    },
    {
     "name": "stdout",
     "output_type": "stream",
     "text": [
      "D\n"
     ]
    }
   ],
   "source": [
    "n = int(input())\n",
    "match n:\n",
    "    case A if n in range(90, 101):\n",
    "        print(\"A\")\n",
    "    case B if n in range(80, 90):\n",
    "        print(\"B\")\n",
    "    case C if n in range(70, 80):\n",
    "        print(\"C\")\n",
    "    case D if n in range(60, 70):\n",
    "        print(\"D\")\n",
    "    case E if n in range(50, 60):\n",
    "        print(\"E\")\n",
    "    case _:\n",
    "        print(\"F\")"
   ]
  },
  {
   "cell_type": "markdown",
   "id": "76bfac99-3ba2-4462-bb12-58265f6555b4",
   "metadata": {},
   "source": [
    "Question 25"
   ]
  },
  {
   "cell_type": "code",
   "execution_count": 64,
   "id": "a0b01402-1d95-4ed0-a46f-2459f6ac3b2a",
   "metadata": {},
   "outputs": [
    {
     "name": "stdin",
     "output_type": "stream",
     "text": [
      " 2025\n"
     ]
    },
    {
     "name": "stdout",
     "output_type": "stream",
     "text": [
      "No\n"
     ]
    }
   ],
   "source": [
    "y = int(input())\n",
    "if (y%4 == 0 and y%100 != 0) or y%400 == 0:\n",
    "    print(\"Yes\")\n",
    "else:\n",
    "    print(\"No\")"
   ]
  },
  {
   "cell_type": "code",
   "execution_count": null,
   "id": "b8c28afc-50f3-4e17-b7f9-2d915179ba48",
   "metadata": {},
   "outputs": [],
   "source": []
  }
 ],
 "metadata": {
  "kernelspec": {
   "display_name": "Python 3 (ipykernel)",
   "language": "python",
   "name": "python3"
  },
  "language_info": {
   "codemirror_mode": {
    "name": "ipython",
    "version": 3
   },
   "file_extension": ".py",
   "mimetype": "text/x-python",
   "name": "python",
   "nbconvert_exporter": "python",
   "pygments_lexer": "ipython3",
   "version": "3.12.5"
  }
 },
 "nbformat": 4,
 "nbformat_minor": 5
}
